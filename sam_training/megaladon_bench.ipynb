{
 "cells": [
  {
   "cell_type": "code",
   "execution_count": 20,
   "id": "aa317c73-09ce-4602-8234-00d47df0dee3",
   "metadata": {},
   "outputs": [],
   "source": [
    "#import os\n",
    "import pandas as pd"
   ]
  },
  {
   "cell_type": "code",
   "execution_count": 21,
   "id": "1db18668-a4ef-4feb-8252-75c178afe42a",
   "metadata": {},
   "outputs": [],
   "source": [
    "read_in = pd.read_excel('/Users/AdamSoubh/Documents/Code/shethar_training/metadata/megaladon_metadata.xlsx', \n",
    "             index_col = None, \n",
    "            header = 0)"
   ]
  },
  {
   "cell_type": "code",
   "execution_count": 28,
   "id": "f70032c9-f2e3-4ae2-8a55-c8e8b75dae99",
   "metadata": {},
   "outputs": [
    {
     "name": "stdout",
     "output_type": "stream",
     "text": [
      "Adam Soubh kgs\n",
      "Jasper Haney\n",
      "Sam Shethar kgs\n",
      "Max Shethar\n"
     ]
    }
   ],
   "source": [
    "for i in range(len(read_in.index)):\n",
    "    client_name = read_in['client_name'][i]\n",
    "    bench_max = read_in['bench_max'][i]\n",
    "    ohp_max = read_in['ohp_max'][i]\n",
    "    units = read_in['units'][i]\n",
    "    if 'lbs' in units:\n",
    "        print (client_name)\n",
    "    else:\n",
    "        print (client_name + ' kgs')"
   ]
  },
  {
   "cell_type": "code",
   "execution_count": null,
   "id": "5fd859a1-597c-4e51-bb22-b1c04a78b778",
   "metadata": {},
   "outputs": [],
   "source": []
  }
 ],
 "metadata": {
  "kernelspec": {
   "display_name": "Python 3",
   "language": "python",
   "name": "python3"
  },
  "language_info": {
   "codemirror_mode": {
    "name": "ipython",
    "version": 3
   },
   "file_extension": ".py",
   "mimetype": "text/x-python",
   "name": "python",
   "nbconvert_exporter": "python",
   "pygments_lexer": "ipython3",
   "version": "3.8.8"
  }
 },
 "nbformat": 4,
 "nbformat_minor": 5
}
