{
 "cells": [
  {
   "cell_type": "code",
   "execution_count": 1,
   "id": "aa317c73-09ce-4602-8234-00d47df0dee3",
   "metadata": {},
   "outputs": [],
   "source": [
    "#import os\n",
    "import pandas as pd"
   ]
  },
  {
   "cell_type": "code",
   "execution_count": 2,
   "id": "1db18668-a4ef-4feb-8252-75c178afe42a",
   "metadata": {},
   "outputs": [],
   "source": [
    "read_in = pd.read_excel('/Users/AdamSoubh/Documents/Code/lifting_code/shethar_training/metadata/megaladon_metadata.xlsx', \n",
    "             index_col = None, \n",
    "            header = 0)"
   ]
  },
  {
   "cell_type": "code",
   "execution_count": 3,
   "id": "f70032c9-f2e3-4ae2-8a55-c8e8b75dae99",
   "metadata": {},
   "outputs": [
    {
     "name": "stdout",
     "output_type": "stream",
     "text": [
      "Adam Soubh kgs\n",
      "Jasper Haney\n",
      "Sam Shethar kgs\n",
      "Max Shethar\n"
     ]
    }
   ],
   "source": [
    "for i in range(len(read_in.index)):\n",
    "    client_name = read_in['client_name'][i]\n",
    "    bench_max = read_in['bench_max'][i]\n",
    "    ohp_max = read_in['ohp_max'][i]\n",
    "    units = read_in['units'][i]\n",
    "    if 'lbs' in units:\n",
    "        print (client_name)\n",
    "    else:\n",
    "        print (client_name + ' kgs')"
   ]
  },
  {
   "cell_type": "code",
   "execution_count": 4,
   "id": "ad9148b7-61cd-46ed-9ce0-d9e08bc0e278",
   "metadata": {},
   "outputs": [],
   "source": [
    "# for lbs\n",
    "week1 = [[\"Week 1: Hypertrophy 1 of 4\"],\n",
    "         [],\n",
    "         [],\n",
    "         [\"Monday\"],\n",
    "             [\"Exercise\", \"Sets\", \"Reps\", \"Load\"],\n",
    "                 [\"Bench Press\", 4, \"3RIR\", 5*round((bench_max*0.61)/5)],\n",
    "                 [\"Lat Pulldowns (Grip of Choice)\", 4, \"8-12\", \"3RIR\"],\n",
    "                 ['Neutral Grip DB Bench', 3, '8-12', '2RIR'],\n",
    "                 ['Chest Supported Row of Choice', 3, '8-12', '3RIR'],\n",
    "                 ['Tricep Motion of Choice', 4, '12-15', '1-2RIR'],\n",
    "                 ['Pec Flies or Face Pulls', 3, '8-15', '1-2RIR'],\n",
    "         [],\n",
    "         [\"Wednesday\"],\n",
    "             [\"Exercise\", \"Sets\", \"Reps\", \"Load\"],\n",
    "                 [\"Bench Press\", 4, \"3RIR\", 5*round((bench_max*0.63)/5)],\n",
    "                 [\"Lat Pulldowns (Grip of Choice)\", 4, \"8-12\", \"3RIR\"],\n",
    "                 ['High Incline Neutral DB Press', 3, '8-12', '2RIR'],\n",
    "                 ['Chest Supported Row of Choice', 3, '8-12', '3RIR'],\n",
    "                 ['Tricep Motion of Choice', 4, '12-15', '1-2RIR'],\n",
    "                 ['Optional Bicep Work', 3, '8-15', '1-2RIR'],\n",
    "        ]\n",
    "week1_df = pd.DataFrame(week1)"
   ]
  },
  {
   "cell_type": "code",
   "execution_count": 5,
   "id": "95e554f1-7d93-4584-883e-6a50e04700f4",
   "metadata": {},
   "outputs": [],
   "source": [
    "week1_df.to_excel('/Users/AdamSoubh/Documents/Code/lifting_programs/sam_training/program_output/'+client_name+' program.xlsx', header=None, index=None)"
   ]
  },
  {
   "cell_type": "code",
   "execution_count": null,
   "id": "836dbb83-9b47-4863-8caa-648c03a1c9b3",
   "metadata": {},
   "outputs": [],
   "source": []
  }
 ],
 "metadata": {
  "kernelspec": {
   "display_name": "Python 3",
   "language": "python",
   "name": "python3"
  },
  "language_info": {
   "codemirror_mode": {
    "name": "ipython",
    "version": 3
   },
   "file_extension": ".py",
   "mimetype": "text/x-python",
   "name": "python",
   "nbconvert_exporter": "python",
   "pygments_lexer": "ipython3",
   "version": "3.8.8"
  }
 },
 "nbformat": 4,
 "nbformat_minor": 5
}
